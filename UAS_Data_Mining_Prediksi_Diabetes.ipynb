{
  "cells": [
    {
      "cell_type": "markdown",
      "metadata": {
        "id": "view-in-github",
        "colab_type": "text"
      },
      "source": [
        "<a href=\"https://colab.research.google.com/github/oendnsk675/svm-diabetes/blob/main/UAS_Data_Mining_Prediksi_Diabetes.ipynb\" target=\"_parent\"><img src=\"https://colab.research.google.com/assets/colab-badge.svg\" alt=\"Open In Colab\"/></a>"
      ]
    },
    {
      "cell_type": "code",
      "execution_count": null,
      "metadata": {
        "id": "dRN72Fs-BO-Z"
      },
      "outputs": [],
      "source": [
        "import pandas as pd\n",
        "import numpy as np\n",
        "from google.colab import drive\n",
        "drive.mount('/content/drive')\n",
        "path = '/content/drive/MyDrive/dataset/diabetes.csv'"
      ]
    },
    {
      "cell_type": "code",
      "execution_count": null,
      "metadata": {
        "id": "duudgs4yJ_kg"
      },
      "outputs": [],
      "source": [
        "df = pd.read_csv(path)"
      ]
    },
    {
      "cell_type": "code",
      "execution_count": null,
      "metadata": {
        "id": "800px61riHIs"
      },
      "outputs": [],
      "source": [
        "# df.Outcome.value_counts()\n",
        "df.head()"
      ]
    },
    {
      "cell_type": "code",
      "execution_count": null,
      "metadata": {
        "id": "0jw-ucdt4D_d"
      },
      "outputs": [],
      "source": [
        "columns = df.columns[1:6]\n",
        "columns"
      ]
    },
    {
      "cell_type": "code",
      "execution_count": null,
      "metadata": {
        "id": "yxg5DiaNtxQl"
      },
      "outputs": [],
      "source": [
        "df.head(3)"
      ]
    },
    {
      "cell_type": "markdown",
      "metadata": {
        "id": "wnyqyREnKJGr"
      },
      "source": [
        "# Data Preproccesing"
      ]
    },
    {
      "cell_type": "markdown",
      "metadata": {
        "id": "gSrWA-Hx-xGr"
      },
      "source": [
        "### Hapus anomalia, seperti :\n",
        "\n",
        "\n",
        "1. Glucose yang 0 karna tidak mungkin, diganti dengan median\n",
        "2. BloodPressure yang 0 karna tidak mungkin, diganti dengan median\n",
        "3. SkinThickness yang 0 karna tidak mungkin, diganti dengan median\n",
        "4. Insulin yang 0 karna tidak mungkin, diganti dengan median\n",
        "5. BMI (body mass index) yang 0  karna tidak mungkin, diganti dengan median\n",
        "6. Pregnancies (ini kita hapus karna tidak menjelaskan sedang hamil atau gimana)\n",
        "\n",
        "\n"
      ]
    },
    {
      "cell_type": "markdown",
      "metadata": {
        "id": "egJdmAJeRS8N"
      },
      "source": [
        "#### step 1 - 5"
      ]
    },
    {
      "cell_type": "code",
      "execution_count": null,
      "metadata": {
        "id": "EdSnXoexKS72"
      },
      "outputs": [],
      "source": [
        "def replace_zero_value(column):\n",
        "  global df\n",
        "\n",
        "  median = df[column].median()\n",
        "  df.replace({column : {0 : median}}, inplace=True)\n",
        "\n",
        "for column in columns:\n",
        "  replace_zero_value(column)"
      ]
    },
    {
      "cell_type": "code",
      "execution_count": null,
      "metadata": {
        "id": "--UDgIva_z9Q"
      },
      "outputs": [],
      "source": [
        "df[df['BloodPressure'] == 0] # check apakah sudah terhapus"
      ]
    },
    {
      "cell_type": "markdown",
      "metadata": {
        "id": "4-XQ_O3bRZZh"
      },
      "source": [
        "#### step 6"
      ]
    },
    {
      "cell_type": "code",
      "execution_count": null,
      "metadata": {
        "id": "3rW9-DwvRQih"
      },
      "outputs": [],
      "source": [
        "df.drop(columns='Pregnancies', inplace=True)"
      ]
    },
    {
      "cell_type": "markdown",
      "metadata": {
        "id": "zwrZ7r2jReGX"
      },
      "source": [
        "## EDA (EXPLORATORY DATA ANALYSIS)"
      ]
    },
    {
      "cell_type": "markdown",
      "metadata": {
        "id": "pJ7KYqTyCmnp"
      },
      "source": [
        "### Check Outlier"
      ]
    },
    {
      "cell_type": "code",
      "execution_count": null,
      "metadata": {
        "id": "f6gZRzYcCquK"
      },
      "outputs": [],
      "source": [
        "import matplotlib.pyplot as plt\n",
        "import seaborn as sns"
      ]
    },
    {
      "cell_type": "code",
      "execution_count": null,
      "metadata": {
        "id": "wJR3H2L6Cqci"
      },
      "outputs": [],
      "source": [
        "fig, ax = plt.subplots(2, 4, figsize=(20,10))\n",
        "\n",
        "columns_2d = np.array(df.columns[:8])\n",
        "columns_2d = columns_2d.reshape(2, 4)\n",
        "\n",
        "for row in range(2):\n",
        "  for col in range(4):\n",
        "    if columns_2d[row][col] == 'Outcome':\n",
        "      continue\n",
        "    sns.boxplot(y=df[columns_2d[row][col]], x=df['Outcome'], hue=df['Outcome'], color='coral', ax=ax[row][col])"
      ]
    },
    {
      "cell_type": "code",
      "execution_count": null,
      "metadata": {
        "id": "32shYcHjCp5r"
      },
      "outputs": [],
      "source": [
        "q1=df.Glucose.quantile(0.25)\n",
        "q3=df.Glucose.quantile(0.75)\n",
        "iqr=q3-q1\n",
        "\n",
        "lower = q1 - 1.5 * iqr\n",
        "upper = q1 + 1.5 * iqr"
      ]
    },
    {
      "cell_type": "code",
      "execution_count": null,
      "metadata": {
        "id": "fHKJokGKCpxD"
      },
      "outputs": [],
      "source": [
        "df.loc[(df['Glucose'] > upper) ]"
      ]
    },
    {
      "cell_type": "markdown",
      "metadata": {
        "id": "IY551JsiNNjb"
      },
      "source": [
        "#### Kesimpulan dari data outlier\n",
        "Dari data outlier diatas kita biarkan karna hal tersebut memang benar adanya bentuk datanya, misal outlier pada glucose yang dimana itu nilai yang sebenernya untuk orang yang mengalami diabetes"
      ]
    },
    {
      "cell_type": "markdown",
      "metadata": {
        "id": "DrF47A4sNqMJ"
      },
      "source": [
        "### Check correlation between column"
      ]
    },
    {
      "cell_type": "code",
      "execution_count": null,
      "metadata": {
        "id": "iPab9wrcNsJu"
      },
      "outputs": [],
      "source": [
        "fig, ax = plt.subplots(figsize=(13, 7))\n",
        "sns.heatmap(df.corr(), annot=True, ax=ax, fmt='g',cmap='BuGn')"
      ]
    },
    {
      "cell_type": "markdown",
      "metadata": {
        "id": "qIyZlhqZPAZ3"
      },
      "source": [
        "#### Kesimpulan correlation\n",
        "*   Terlihat kolom glucose merupakan feature paling berpengaruh dalam penentuan patients terkena penyakit diabetes atau tidak\n",
        "*   Kemudian juga glucose sangat erat kaitanya dengan insulin karna hal ini memang benar adanya jika insulin terganggu maka glucose sesorang akan mengalami gangguan, karna Insulin adalah hormon yang disekresi dari pankreas\n",
        "dan dibutuhkan dalam proses metabolisme glukosa.\n",
        "Saat insulin tidak bekerja sebagaimana fungsinya\n",
        "maka terjadi penumpukan glukosa di sirkulasi darah\n",
        "atau hiperglikemia\n",
        "\n"
      ]
    },
    {
      "cell_type": "markdown",
      "metadata": {
        "id": "kAJa3heZRuFD"
      },
      "source": [
        "# Modeling"
      ]
    },
    {
      "cell_type": "code",
      "execution_count": null,
      "metadata": {
        "id": "1Ou9hwJmMjmq"
      },
      "outputs": [],
      "source": [
        "x = df.iloc[:,0:7]\n",
        "y = df.iloc[:,7:8]"
      ]
    },
    {
      "cell_type": "markdown",
      "metadata": {
        "id": "_vTsEZwGR8zr"
      },
      "source": [
        "## Handle class imbalance\n",
        "Atasi class yang tidak balance menggunakan metode SMOTEENN"
      ]
    },
    {
      "cell_type": "code",
      "execution_count": null,
      "metadata": {
        "id": "hqmrc-GgKSOO"
      },
      "outputs": [],
      "source": [
        "df.Outcome.value_counts()"
      ]
    },
    {
      "cell_type": "code",
      "execution_count": null,
      "metadata": {
        "id": "ecNQJ99wMeZc"
      },
      "outputs": [],
      "source": [
        "from imblearn.combine import SMOTEENN\n",
        "\n",
        "SE = SMOTEENN()\n",
        "x_se, y_se = SE.fit_resample(x, y)\n",
        "print('Data Before Sampling:\\n', y.Outcome.value_counts(), \"\\n\")\n",
        "print('Data After Sampling:\\n', y_se.Outcome.value_counts())"
      ]
    },
    {
      "cell_type": "markdown",
      "metadata": {
        "id": "iHiv8pKdSird"
      },
      "source": [
        "## Membagi data training dengan data testing\n",
        "membagi dataset menjadi data training dengan data testing sangatlah penting, supaya data yang digunakan untuk melatih model berbeda dengan saat testing modelnya, hal ini menghindari model yang overfitting atau model yang terlihat bagus tapi tidak sebenarnya bagus, yang dikarnakan data yang digunakan ketika training sama dengan ketika testing"
      ]
    },
    {
      "cell_type": "code",
      "execution_count": null,
      "metadata": {
        "id": "hwveUvw6KkPN"
      },
      "outputs": [],
      "source": [
        "from sklearn.model_selection import train_test_split\n",
        "x_train, x_test, y_train, y_test = train_test_split(x,y,test_size=0.2,random_state=0)\n",
        "xse_train, xse_test, yse_train, yse_test = train_test_split(x_se,y_se,test_size=0.2,random_state=0)"
      ]
    },
    {
      "cell_type": "markdown",
      "metadata": {
        "id": "KUdpTELOTrwn"
      },
      "source": [
        "## Training model"
      ]
    },
    {
      "cell_type": "code",
      "execution_count": null,
      "metadata": {
        "id": "DGP7jUo_KqLO"
      },
      "outputs": [],
      "source": [
        "from sklearn.svm import SVC\n",
        "\n",
        "model = SVC(kernel='linear')\n",
        "\n",
        "#Train the model using the training sets\n",
        "model.fit(x_train, y_train.Outcome.ravel())\n",
        "\n",
        "model_se = SVC(kernel='linear')\n",
        "\n",
        "#Train the model using the training sets\n",
        "model_se.fit(xse_train, yse_train.Outcome.ravel())"
      ]
    },
    {
      "cell_type": "markdown",
      "metadata": {
        "id": "SCXto6ehT5ft"
      },
      "source": [
        "## Model Predict"
      ]
    },
    {
      "cell_type": "code",
      "execution_count": null,
      "metadata": {
        "id": "eqQ7r_5cT6Pd"
      },
      "outputs": [],
      "source": [
        "#Predict the response for test dataset\n",
        "y_pred = model.predict(x_test)\n",
        "\n",
        "yse_pred = model_se.predict(xse_test)"
      ]
    },
    {
      "cell_type": "markdown",
      "metadata": {
        "id": "6bsmGi1YUD5g"
      },
      "source": [
        "## Check accuracy, presisi, recall"
      ]
    },
    {
      "cell_type": "markdown",
      "metadata": {
        "id": "7-61dgoddESX"
      },
      "source": [
        "### check using confusion matrix"
      ]
    },
    {
      "cell_type": "code",
      "execution_count": null,
      "metadata": {
        "id": "a-K31PSIdFYm"
      },
      "outputs": [],
      "source": [
        "from sklearn.metrics import confusion_matrix, ConfusionMatrixDisplay\n",
        "\n",
        "cm = confusion_matrix(y_test, y_pred)\n",
        "cm_se = confusion_matrix(yse_test, yse_pred)\n",
        "\n",
        "# display(cm)\n",
        "# display(cm_se)"
      ]
    },
    {
      "cell_type": "markdown",
      "metadata": {
        "id": "XKolSYY6gCT1"
      },
      "source": [
        "#### visualization confusion matrix"
      ]
    },
    {
      "cell_type": "code",
      "execution_count": null,
      "metadata": {
        "id": "3OUhxpt5f-7Q"
      },
      "outputs": [],
      "source": [
        "# sns.heatmap(cm, annot=True, ax=ax[0], fmt='g',cmap='BuGn')\n",
        "# sns.heatmap(cm_se, annot=True, ax=ax[1], fmt='g',cmap='BuGn')\n",
        "\n",
        "fig, ax = plt.subplots(1, 2, figsize=(13, 4))\n",
        "ax[0].title.set_text(\"Before SMOTE-ENN\")\n",
        "ax[1].title.set_text(\"After SMOTE-ENN\")\n",
        "cm_display = ConfusionMatrixDisplay(confusion_matrix = cm, display_labels = [False, True])\n",
        "cm_display.plot(ax=ax[0])\n",
        "cm_displayse = ConfusionMatrixDisplay(confusion_matrix = cm_se, display_labels = [False, True])\n",
        "cm_displayse.plot(ax=ax[1])\n",
        "\n",
        "plt.show()"
      ]
    },
    {
      "cell_type": "markdown",
      "metadata": {
        "id": "NR2_-7Mic7n4"
      },
      "source": [
        "### chcek using classification report "
      ]
    },
    {
      "cell_type": "code",
      "execution_count": null,
      "metadata": {
        "id": "iYCw8LecLj39"
      },
      "outputs": [],
      "source": [
        "from sklearn.metrics import classification_report\n",
        "from sklearn import metrics\n",
        "print(classification_report(yse_test, yse_pred))\n",
        "#Hasil SVM\n",
        "print(\"Akurasi SVM sebelum SMOTE-ENN :\", metrics.accuracy_score(y_test, y_pred))\n",
        "print(\"Presisi SVM sebelum SMOTE-ENN :\", metrics.precision_score(y_test, y_pred))\n",
        "print(\"Recall SVM sebelum SMOTE-ENN :\", metrics.recall_score(y_test, y_pred), \"\\n\")\n",
        "\n",
        "print(\"Akurasi SVM sesudah SMOTE-ENN :\", metrics.accuracy_score(yse_test, yse_pred))\n",
        "print(\"Presisi SVM sesudah SMOTE-ENN :\", metrics.precision_score(yse_test, yse_pred))\n",
        "print(\"Recall SVM sesudah SMOTE-ENN :\", metrics.recall_score(yse_test, yse_pred))\n",
        "# print(y_pred)"
      ]
    },
    {
      "cell_type": "markdown",
      "metadata": {
        "id": "nNXOrrPDtT58"
      },
      "source": [
        "# Hyperparamter Tunning Using GridSearchCV"
      ]
    },
    {
      "cell_type": "code",
      "execution_count": null,
      "metadata": {
        "id": "2JWjFxKobUEm"
      },
      "outputs": [],
      "source": [
        "from sklearn.model_selection import GridSearchCV\n",
        "import multiprocessing\n",
        "\n",
        "parameters = {\n",
        "    'kernel': ['rbf', 'poly', 'sigmoid'],\n",
        "    'C': [0.5, 1, 10, 100],\n",
        "    'gamma': ['scale', 0.001],\n",
        "}\n",
        "\n",
        "cores = multiprocessing.cpu_count()\n",
        "\n",
        "\n",
        "grid_search = GridSearchCV(estimator=SVC(random_state=0),\n",
        "                           param_grid=parameters,\n",
        "                           n_jobs= cores,\n",
        "                           verbose=10,\n",
        "                           scoring='accuracy',\n",
        "                           cv=5\n",
        "                           )\n",
        "\n",
        "# cores\n",
        "grid_search.fit(xse_train, yse_train.Outcome.ravel())"
      ]
    },
    {
      "cell_type": "code",
      "execution_count": null,
      "metadata": {
        "id": "GX8UKO87fUVv"
      },
      "outputs": [],
      "source": [
        "print(f\"Best Score: {grid_search.best_score_}\")\n",
        "\n",
        "best_params = grid_search.best_estimator_.get_params()\n",
        "print(\"Best paramters: \")\n",
        "for param in parameters:\n",
        "  print(f\"\\t{param}: {best_params[param]}\")"
      ]
    },
    {
      "cell_type": "code",
      "execution_count": null,
      "metadata": {
        "id": "8l5ENKH5bwqo"
      },
      "outputs": [],
      "source": [
        "y_pred_grid = grid_search.predict(xse_test)\n",
        "# print(classification_report(y_test, y_pred_grid))\n",
        "\n",
        "print(f\"Akurasi SVM Sebelum Tunning Hyperparamter: {metrics.accuracy_score(yse_test, yse_pred) * 100}%\")\n",
        "print(f\"Akurasi SVM Sesudah Tunning Hyperparamter: {metrics.accuracy_score(yse_test, y_pred_grid) * 100}%\")"
      ]
    },
    {
      "cell_type": "code",
      "execution_count": null,
      "metadata": {
        "id": "LNVWYv6SoKSx"
      },
      "outputs": [],
      "source": [
        "cm_tun = confusion_matrix(yse_test, y_pred_grid)\n",
        "\n",
        "fig, ax = plt.subplots(1, 2, figsize=(13, 4))\n",
        "ax[0].title.set_text(\"Before Tuning\")\n",
        "ax[1].title.set_text(\"After Tuning\")\n",
        "cm_display = ConfusionMatrixDisplay(confusion_matrix = cm_se, display_labels = [False, True])\n",
        "cm_display.plot(ax=ax[0])\n",
        "cm_displayse = ConfusionMatrixDisplay(confusion_matrix = cm_tun, display_labels = [False, True])\n",
        "cm_displayse.plot(ax=ax[1])\n",
        "\n",
        "plt.show()"
      ]
    },
    {
      "cell_type": "code",
      "execution_count": null,
      "metadata": {
        "id": "-A2UU4HCtMHg"
      },
      "outputs": [],
      "source": [
        "# save the model to disk\n",
        "import pickle\n",
        "\n",
        "filename = 'svm-diabet.pkl'\n",
        "pickle.dump(model, open(filename, 'wb'))"
      ]
    },
    {
      "cell_type": "code",
      "source": [
        "with open(\"svm-diabet.pkl\", \"rb\") as r:\n",
        "  model = pickle.load(r)\n",
        "\n",
        "yy_pred = model.predict([[150, 0, 0, 0, 0, 0, 0]])\n",
        "\n",
        "yy_pred\n",
        "# metrics.accuracy_score(y_test, yy_pred)"
      ],
      "metadata": {
        "id": "ibcDQoVug9ww"
      },
      "execution_count": null,
      "outputs": []
    }
  ],
  "metadata": {
    "colab": {
      "provenance": [],
      "authorship_tag": "ABX9TyPBHrpoC/QDNxA9dgIGLY/J",
      "include_colab_link": true
    },
    "kernelspec": {
      "display_name": "Python 3",
      "name": "python3"
    },
    "language_info": {
      "name": "python"
    }
  },
  "nbformat": 4,
  "nbformat_minor": 0
}